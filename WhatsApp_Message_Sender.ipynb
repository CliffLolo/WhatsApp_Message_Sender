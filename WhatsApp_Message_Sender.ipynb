{
 "cells": [
  {
   "cell_type": "code",
   "execution_count": 2,
   "metadata": {},
   "outputs": [],
   "source": [
    "from selenium import webdriver\n",
    "from selenium.webdriver.chrome.options import Options\n",
    "from selenium.webdriver.support.ui import WebDriverWait\n",
    "from selenium.webdriver.common.keys import Keys\n",
    "from selenium.webdriver.common.action_chains import ActionChains\n",
    "from selenium.common.exceptions import NoSuchElementException\n",
    "import pandas\n",
    "import time\n",
    "\n",
    "#Load the chrome driver\n",
    "chrome_options = Options()\n",
    "chrome_options.add_argument(\"--user-data-dir=user-data\")\n",
    "driver = webdriver.Chrome(options=chrome_options, executable_path=r\"C:\\Users\\hp\\Desktop\\New folder (2)\\chromedriver_win32/chromedriver.exe\")\n",
    "count = 0\n",
    "\n",
    "#Open WhatsApp URL in chrome browser\n",
    "driver.get(\"https://web.whatsapp.com/\")\n",
    "wait = WebDriverWait(driver, 20)\n",
    "\n",
    "#Read data from excel\n",
    "excel_data = pandas.read_excel('ulk.xlsx',engine='openpyxl')\n",
    "message = excel_data['Message'][0]\n",
    "#Iterate excel rows till to finish\n",
    "for column in excel_data['Name'].tolist():\n",
    "    # Locate search box through x_path\n",
    "    search_box = '//*[@id=\"side\"]/div[1]/div/label/div/div[2]'\n",
    "    person_title = wait.until(lambda driver:driver.find_element_by_xpath(search_box))\n",
    "\n",
    "    # Clear search box if any contact number is written in it\n",
    "    person_title.clear()\n",
    "\n",
    "    # Send contact number in search box\n",
    "    person_title.send_keys(str(excel_data['Contact'][count]))\n",
    "    count = count + 1\n",
    "\n",
    "    # Wait for 3 seconds to search contact number\n",
    "    time.sleep(3)\n",
    "\n",
    "    try:\n",
    "        # Load error message in case unavailability of contact number\n",
    "        element = driver.find_element_by_xpath('//*[@id=\"pane-side\"]/div[1]/div/span')\n",
    "    except NoSuchElementException:\n",
    "        # Format the message from excel sheet\n",
    "        message = message.replace('{customer_name}',\"{}\")\n",
    "        new_message = message.format(column)\n",
    "        \n",
    "        person_title.send_keys(Keys.ENTER)\n",
    "        actions = ActionChains(driver)\n",
    "        actions.send_keys(new_message)\n",
    "        actions.send_keys(Keys.ENTER)\n",
    "        actions.perform()\n",
    "\n",
    "# Close Chrome browser\n",
    "driver.quit()"
   ]
  },
  {
   "cell_type": "code",
   "execution_count": null,
   "metadata": {},
   "outputs": [],
   "source": []
  }
 ],
 "metadata": {
  "kernelspec": {
   "display_name": "message_sender",
   "language": "python",
   "name": "message_sender"
  },
  "language_info": {
   "codemirror_mode": {
    "name": "ipython",
    "version": 3
   },
   "file_extension": ".py",
   "mimetype": "text/x-python",
   "name": "python",
   "nbconvert_exporter": "python",
   "pygments_lexer": "ipython3",
   "version": "3.8.5"
  }
 },
 "nbformat": 4,
 "nbformat_minor": 2
}
