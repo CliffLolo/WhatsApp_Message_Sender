{
 "cells": [
  {
   "cell_type": "code",
   "execution_count": 1,
   "metadata": {},
   "outputs": [],
   "source": [
    "from selenium import webdriver\n",
    "from selenium.webdriver.chrome.options import Options\n",
    "from selenium.webdriver.support.ui import WebDriverWait\n",
    "from selenium.webdriver.common.keys import Keys\n",
    "from selenium.webdriver.common.action_chains import ActionChains\n",
    "from selenium.common.exceptions import NoSuchElementException\n",
    "import pandas as pd\n",
    "import time\n",
    "\n",
    "\n",
    "#Load the chrome driver\n",
    "chrome_options = Options()\n",
    "chrome_options.add_argument(\"--user-data-dir=user-data\")\n",
    "\n",
    "#Set executable_path to the location where your chromedriver is located\n",
    "driver = webdriver.Chrome(options=chrome_options, executable_path=r\"C:\\Users\\hp\\Desktop\\New folder (2)\\chromedriver_win32/chromedriver.exe\")\n",
    "wait = WebDriverWait(driver, 60)\n",
    "count = 0\n",
    "\n",
    "#Open WhatsApp URL in chrome browser\n",
    "driver.get(\"https://web.whatsapp.com/\")\n",
    "\n",
    "#Read the data from excel\n",
    "data = pd.read_excel('contacts.xlsx',engine='openpyxl')\n",
    "message = data['Message'][0]\n",
    "\n",
    "#Iterate excel rows\n",
    "for name in data['Name'].tolist():\n",
    "    # Locate search box through x_path\n",
    "    search_box = '//*[@id=\"side\"]/div[1]/div/label/div/div[2]'\n",
    "    title = wait.until(lambda driver:driver.find_element_by_xpath(search_box))\n",
    "\n",
    "    # Clear search box if any contact number is in it\n",
    "    title.clear()\n",
    "\n",
    "    # Send contact number in search box\n",
    "    title.send_keys(str(data['Contact'][count]))\n",
    "    count = count + 1\n",
    "\n",
    "    # Wait for 4 seconds to search contact number\n",
    "    time.sleep(4)\n",
    "\n",
    "    try:\n",
    "        element = driver.find_element_by_xpath('//*[@id=\"pane-side\"]/div[1]/div/span')\n",
    "    except NoSuchElementException:\n",
    "        message = message.replace('{name}',\"{}\")\n",
    "        new_message = message.format(name)\n",
    "        \n",
    "        title.send_keys(Keys.ENTER)\n",
    "        actions = ActionChains(driver)\n",
    "        actions.send_keys(new_message)\n",
    "        actions.send_keys(Keys.ENTER)\n",
    "        actions.perform()\n",
    "\n",
    "# end the instance of chromedriver or any driver used\n",
    "driver.quit()"
   ]
  },
  {
   "cell_type": "code",
   "execution_count": null,
   "metadata": {},
   "outputs": [],
   "source": []
  }
 ],
 "metadata": {
  "kernelspec": {
   "display_name": "message_sender",
   "language": "python",
   "name": "message_sender"
  },
  "language_info": {
   "codemirror_mode": {
    "name": "ipython",
    "version": 3
   },
   "file_extension": ".py",
   "mimetype": "text/x-python",
   "name": "python",
   "nbconvert_exporter": "python",
   "pygments_lexer": "ipython3",
   "version": "3.8.5"
  }
 },
 "nbformat": 4,
 "nbformat_minor": 2
}
